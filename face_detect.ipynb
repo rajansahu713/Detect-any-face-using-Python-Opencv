{
 "cells": [
  {
   "cell_type": "code",
   "execution_count": 2,
   "metadata": {},
   "outputs": [],
   "source": [
    "import cv2\n",
    "import winsound  \n",
    "\n",
    "# frequency is set to 500Hz \n",
    "freq = 500 \n",
    "  \n",
    "# duration is set to 100 milliseconds              \n",
    "dur = 100\n",
    "cascade_classifier = cv2.CascadeClassifier('haarcascades/haarcascade_frontalface_default.xml')\n",
    "cap = cv2.VideoCapture(0)\n",
    "i=0\n",
    "while True:\n",
    "    # Capture frame-by-frame\n",
    "    ret, frame = cap.read()\n",
    "    cv2.waitKey(300)\n",
    "    # Our operations on the frame come here\n",
    "    gray = cv2.cvtColor(frame, 0)\n",
    "    detections = cascade_classifier.detectMultiScale(gray,1.3,5)\n",
    "\n",
    "    if(len(detections) > 0):\n",
    "        (x,y,w,h) = detections[0]\n",
    "        frame = cv2.rectangle(frame,(x,y),(x+w,y+h),(255,0,0),2) \n",
    "        # save the detected frame\n",
    "        cv2.imwrite('detected_face/detected'+str(i)+'.jpg',frame)\n",
    "        # beep when frame detect\n",
    "        winsound.Beep(freq, dur) \n",
    "        \n",
    "    # Display the resulting frame\n",
    "    cv2.imshow('frame',frame)\n",
    "    #cv2.imwrite('detected'+str(i)+'.jpg',frame)\n",
    "    i=i+1\n",
    "    if cv2.waitKey(1) & 0xFF == ord('q'):\n",
    "        break\n",
    "\n",
    "# When everything done, release the capture\n",
    "cap.release()\n",
    "cv2.destroyAllWindows()"
   ]
  }
 ],
 "metadata": {
  "kernelspec": {
   "display_name": "Python 3",
   "language": "python",
   "name": "python3"
  },
  "language_info": {
   "codemirror_mode": {
    "name": "ipython",
    "version": 3
   },
   "file_extension": ".py",
   "mimetype": "text/x-python",
   "name": "python",
   "nbconvert_exporter": "python",
   "pygments_lexer": "ipython3",
   "version": "3.7.4"
  }
 },
 "nbformat": 4,
 "nbformat_minor": 4
}
